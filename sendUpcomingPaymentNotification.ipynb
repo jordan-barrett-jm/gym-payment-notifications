{
 "cells": [
  {
   "cell_type": "code",
   "execution_count": null,
   "id": "94cfbbc7-b950-47bf-a196-24fdf90f1125",
   "metadata": {
    "scrolled": false
   },
   "outputs": [],
   "source": [
    "\"\"\"\n",
    "Process:\n",
    "\n",
    "1. Check to see if any of the paid dates in the main sheet differ from the previously paid dates in the secondary sheet\n",
    "2. If the secondary sheet has not been populated, populate it with current payment schedule info\n",
    "3. If it is populated and there is no difference, do nothing\n",
    "4. If it is populated and there is a difference, update the Previous Paid Date column in the secondary sheet to the paid date value in the main sheet and change Notified to No\n",
    "5. Check for customers who have not been notified and have a due date within 3 days\n",
    "6. For all customers who meet this criteria, notify the gym owner and the customer if an email is present for them\n",
    "\n",
    "\"\"\""
   ]
  },
  {
   "cell_type": "code",
   "execution_count": null,
   "id": "e4b26eca-6141-403c-ad58-f25fff885e03",
   "metadata": {},
   "outputs": [],
   "source": [
    "import gspread\n",
    "import pandas as pd\n",
    "from oauth2client.service_account import ServiceAccountCredentials\n",
    "import datetime as dt\n",
    "from mailjet_rest import Client\n",
    "import os\n",
    "import numpy as np\n",
    "from os.path import join, dirname\n",
    "from dotenv import load_dotenv"
   ]
  },
  {
   "cell_type": "code",
   "execution_count": null,
   "id": "9b7d9879-aefa-488a-af43-26a16925cecb",
   "metadata": {},
   "outputs": [],
   "source": [
    "#set up logging\n",
    "import logging\n",
    "\n",
    "logging.basicConfig(filename='app.log', filemode='a', format='%(asctime)s - %(levelname)s - %(message)s', level=logging.INFO)"
   ]
  },
  {
   "cell_type": "code",
   "execution_count": null,
   "id": "eb20e2d9-867f-4f22-a9a2-aba2e60ecb03",
   "metadata": {},
   "outputs": [],
   "source": [
    "#load .env file\n",
    "load_dotenv()\n",
    "#set global variables\n",
    "OWNER_EMAIL = os.environ.get(\"OWNER_EMAIL\")\n",
    "MAILJET_KEY = os.environ.get(\"MAILJET_KEY\")\n",
    "MAILJET_SECRET = os.environ.get(\"MAILJET_SECRET\")\n",
    "GOOGLE_SHEETS_KEY = os.environ.get(\"GOOGLE_SHEETS_KEY\")"
   ]
  },
  {
   "cell_type": "code",
   "execution_count": null,
   "id": "e65c758d-8eb4-455e-82a3-0d25fbc4b7c5",
   "metadata": {},
   "outputs": [],
   "source": [
    "# define the scope\n",
    "scope = ['https://spreadsheets.google.com/feeds','https://www.googleapis.com/auth/drive']\n",
    "\n",
    "# add credentials to the account\n",
    "creds = ServiceAccountCredentials.from_json_keyfile_name(GOOGLE_SHEETS_KEY, scope)\n",
    "\n",
    "# authorize the clientsheet \n",
    "client = gspread.authorize(creds)"
   ]
  },
  {
   "cell_type": "code",
   "execution_count": null,
   "id": "bc50d625-f1a4-41bd-b6e4-e3b81bbf64ba",
   "metadata": {},
   "outputs": [],
   "source": [
    "try:\n",
    "    sheet = client.open('customer sheets')\n",
    "    logging.info(\"Connected to Google sheets...\")\n",
    "except Exception as e:\n",
    "    logging.error(str(e))\n",
    "    raise"
   ]
  },
  {
   "cell_type": "code",
   "execution_count": null,
   "id": "c968de15-571f-4070-9741-4950e1ce559e",
   "metadata": {},
   "outputs": [],
   "source": [
    "current_schedule = sheet.get_worksheet(0)\n",
    "previous_schedule = sheet.get_worksheet(1)"
   ]
  },
  {
   "cell_type": "code",
   "execution_count": null,
   "id": "b9196a31-e650-4d11-85b1-136610b72977",
   "metadata": {},
   "outputs": [],
   "source": [
    "#convert to dataframe\n",
    "current_schedule_df = pd.DataFrame.from_dict(current_schedule.get_all_records())\n",
    "previous_schedule_df = pd.DataFrame.from_dict(previous_schedule.get_all_records())"
   ]
  },
  {
   "cell_type": "code",
   "execution_count": null,
   "id": "cc2c0368-555a-4a82-ad4f-845186caad6a",
   "metadata": {},
   "outputs": [],
   "source": [
    "#create a new secondary sheet which will reflect new dates paid\n",
    "def updateScheduleDataframe(customers, previous_schedule_df, current_schedule_df):\n",
    "    new_df = previous_schedule_df\n",
    "    for customer in customers:\n",
    "        customer_exists = customer in previous_schedule_df[\"Customer Name\"].values\n",
    "        current_date_paid = current_schedule_df[current_schedule_df[\"Customer Name\"] == customer][\"Date Paid\"].values[0]\n",
    "        if customer_exists:\n",
    "            previous_date_paid = previous_schedule_df[previous_schedule_df[\"Customer Name\"] == customer][\"Previous Paid Date\"].values[0]\n",
    "            if current_date_paid == previous_date_paid:\n",
    "                pass\n",
    "            else:\n",
    "                customer_idx = np.where(updated_schedule_df[\"Customer Name\"].values == customer)[0][0]\n",
    "                new_df.at[customer_idx, \"Previous Paid Date\"] = current_date_paid\n",
    "                new_df.at[customer_idx, \"Notified\"] = \"N\"\n",
    "        else:\n",
    "            new_row = {\n",
    "                'Customer Name': customer,\n",
    "                'Previous Paid Date': current_date_paid,\n",
    "                'Notified': 'N'\n",
    "            }\n",
    "            new_df = new_df.append(new_row, ignore_index=True)\n",
    "    return new_df\n",
    "customers = current_schedule_df[\"Customer Name\"].values\n",
    "updated_schedule_df = updateScheduleDataframe(customers, previous_schedule_df, current_schedule_df)"
   ]
  },
  {
   "cell_type": "code",
   "execution_count": null,
   "id": "cfd42361-ea14-4e05-bc78-807a1415125d",
   "metadata": {},
   "outputs": [],
   "source": [
    "active_customers_df = current_schedule_df[current_schedule_df[\"Date Paid\"] != \"\"]"
   ]
  },
  {
   "cell_type": "code",
   "execution_count": null,
   "id": "b16c86e2-16c8-4419-babf-b69d707f3355",
   "metadata": {},
   "outputs": [],
   "source": [
    "#put all due customers into an array\n",
    "due_customers = []\n",
    "for customer in active_customers_df[\"Customer Name\"]:\n",
    "    date_paid = active_customers_df[active_customers_df[\"Customer Name\"] == customer][\"Date Paid\"].values[0]\n",
    "    #handle any invalid values in the Date Paid column\n",
    "    try:\n",
    "        date_paid_dt = dt.datetime.strptime(date_paid, \"%d.%m.%Y\")\n",
    "    except Exception as e:\n",
    "        logging.error(str(e))\n",
    "        pass\n",
    "    #find due date - date paid + 28 days\n",
    "    date_due_dt = date_paid_dt + dt.timedelta(days=28)\n",
    "    #if due date is within 3 days of right now then add customer to due list\n",
    "    payment_due = (date_due_dt - dt.timedelta(days=3)) <= dt.datetime.now()\n",
    "    #find if a notification was already sent for this customer for this payment schedule\n",
    "    already_notified = customer in updated_schedule_df[updated_schedule_df[\"Notified\"] == \"Y\"][\"Customer Name\"].values\n",
    "    if (not already_notified) and payment_due:\n",
    "        due_customers.append(customer)"
   ]
  },
  {
   "cell_type": "code",
   "execution_count": null,
   "id": "4790f202",
   "metadata": {},
   "outputs": [],
   "source": [
    "logging.info(f\"Customers with due payments: {due_customers}\")"
   ]
  },
  {
   "cell_type": "code",
   "execution_count": null,
   "id": "a4e3c26f-8219-4792-b53b-a66a1414ffab",
   "metadata": {},
   "outputs": [],
   "source": [
    "due_customers_df = active_customers_df[active_customers_df[\"Customer Name\"].isin(due_customers)]"
   ]
  },
  {
   "cell_type": "code",
   "execution_count": null,
   "id": "72173c94-1052-4b3e-b582-2dde36cb6c4a",
   "metadata": {},
   "outputs": [],
   "source": [
    "def notifyOwner(customer_name, customer_duedate):\n",
    "    logging.info(f\"Gym owner has been notified of upcoming payment for {customer_name}\")\n",
    "    mailjet = Client(auth=(MAILJET_KEY, MAILJET_SECRET), version='v3.1')\n",
    "    data = {\n",
    "      'Messages': [\n",
    "        {\n",
    "          \"From\": {\n",
    "            \"Email\": \"evolutionzgymnotifications@gmail.com\",\n",
    "            \"Name\": \"Evolutionz Gym\"\n",
    "          },\n",
    "          \"To\": [\n",
    "            {\n",
    "              \"Email\": OWNER_EMAIL,\n",
    "              \"Name\": \"Owner\"\n",
    "            }\n",
    "          ],\n",
    "          \"Subject\": f\"Payment due for {customer_name} on {customer_duedate}\",\n",
    "          \"HTMLPart\": f\"<h3>Upcoming Payment Notification</h3><br />Please note that the gym payment for {customer_name} should be paid on {customer_duedate}\",\n",
    "          \"CustomID\": \"PaymentNotification\"\n",
    "        }\n",
    "      ]\n",
    "    }\n",
    "    result = mailjet.send.create(data=data)\n",
    "    print (result.status_code)\n",
    "    print (result.json())\n"
   ]
  },
  {
   "cell_type": "code",
   "execution_count": null,
   "id": "e3515be3-5163-4797-9684-03b29e8e167e",
   "metadata": {},
   "outputs": [],
   "source": [
    "def updateSecondarySheet(updated_df):\n",
    "    previous_schedule.update([updated_df.columns.values.tolist()] + updated_df.values.tolist())\n",
    "    logging.info(\"Secondary sheet udpated\")"
   ]
  },
  {
   "cell_type": "code",
   "execution_count": null,
   "id": "ef3f984d-c661-4fcd-91b2-676de2480e01",
   "metadata": {},
   "outputs": [],
   "source": [
    "def notifyCustomer(customer_email, customer_duedate, customer_name):\n",
    "    logging.info(f\"{customer_name} has been notified of upcoming payment\")\n",
    "    mailjet = Client(auth=(MAILJET_KEY, MAILJET_SECRET), version='v3.1')\n",
    "    data = {\n",
    "      'Messages': [\n",
    "        {\n",
    "          \"From\": {\n",
    "            \"Email\": \"evolutionzgymnotifications@gmail.com\",\n",
    "            \"Name\": \"Evolutionz Gym\"\n",
    "          },\n",
    "          \"To\": [\n",
    "            {\n",
    "              \"Email\": customer_email,\n",
    "              \"Name\": \"Evolutionz Gym Customer\"\n",
    "            }\n",
    "          ],\n",
    "          \"Subject\": f\"Evolutionz Gym payment due on {customer_duedate} - {customer_name}\",\n",
    "          \"HTMLPart\": f\"<h3>Upcoming Payment Notification</h3><br />Please note that your payment to Evolutionz Gym is due on {customer_duedate}\",\n",
    "          \"CustomID\": \"PaymentNotification\"\n",
    "        }\n",
    "      ]\n",
    "    }\n",
    "    result = mailjet.send.create(data=data)\n",
    "    print (result.status_code)\n",
    "    print (result.json())"
   ]
  },
  {
   "cell_type": "code",
   "execution_count": null,
   "id": "2bd5fc21-ea1d-4e43-9534-cabd6df5d7ab",
   "metadata": {},
   "outputs": [],
   "source": [
    "#notify each customer if there is an email present\n",
    "#notify the owner\n",
    "for customer in due_customers:\n",
    "    customer_df = due_customers_df[due_customers_df[\"Customer Name\"] == customer]\n",
    "    customer_email = customer_df[\"Customer Email\"].values\n",
    "    customer_name = customer_df[\"Customer Name\"].values[0]\n",
    "    customer_duedate_dt = dt.datetime.strptime(customer_df[\"Date Paid\"].values[0], \"%d.%m.%Y\") + + dt.timedelta(days=28)\n",
    "    customer_duedate = customer_duedate_dt.strftime(\" %B %d, %Y\")\n",
    "    notifyOwner(customer_name, customer_duedate)\n",
    "    if customer_email:\n",
    "        notifyCustomer(\"1699blue@yopmail.com\", customer_duedate, customer_name)\n",
    "    print (customer_name)\n",
    "    #set the customer \"Notified\" value to Y\n",
    "    customer_idx = np.where(updated_schedule_df[\"Customer Name\"].values == customer_name)[0][0]\n",
    "    updated_schedule_df.at[customer_idx, \"Notified\"] = \"Y\""
   ]
  },
  {
   "cell_type": "code",
   "execution_count": null,
   "id": "9717c61f-020b-46fe-ac12-cb5aeefe5c83",
   "metadata": {},
   "outputs": [],
   "source": [
    "updateSecondarySheet(updated_schedule_df)"
   ]
  }
 ],
 "metadata": {
  "kernelspec": {
   "display_name": "Python 3",
   "language": "python",
   "name": "python3"
  },
  "language_info": {
   "codemirror_mode": {
    "name": "ipython",
    "version": 3
   },
   "file_extension": ".py",
   "mimetype": "text/x-python",
   "name": "python",
   "nbconvert_exporter": "python",
   "pygments_lexer": "ipython3",
   "version": "3.6.5"
  }
 },
 "nbformat": 4,
 "nbformat_minor": 5
}
